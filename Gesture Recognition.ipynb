{
 "cells": [
  {
   "cell_type": "markdown",
   "metadata": {},
   "source": [
    "# Gesture Recognition\n",
    "In this group project, you are going to build a 3D Conv model that will be able to predict the 5 gestures correctly. Please import the following libraries to get started."
   ]
  },
  {
   "cell_type": "code",
   "execution_count": 91,
   "metadata": {},
   "outputs": [],
   "source": [
    "import numpy as np\n",
    "import os\n",
    "from scipy.misc import imread, imresize, imshow\n",
    "import datetime\n",
    "import os\n",
    "import cv2\n",
    "from PIL import Image"
   ]
  },
  {
   "cell_type": "markdown",
   "metadata": {},
   "source": [
    "We set the random seed so that the results don't vary drastically."
   ]
  },
  {
   "cell_type": "code",
   "execution_count": 92,
   "metadata": {},
   "outputs": [],
   "source": [
    "np.random.seed(30)\n",
    "import random as rn\n",
    "rn.seed(30)\n",
    "from keras import backend as K\n",
    "import tensorflow as tf\n",
    "tf.set_random_seed(30)"
   ]
  },
  {
   "cell_type": "code",
   "execution_count": 93,
   "metadata": {},
   "outputs": [],
   "source": [
    "image_path = \"Project_data\"\n",
    "#image_path = \"/notebooks/storage/Final_data/Collated_training\""
   ]
  },
  {
   "cell_type": "markdown",
   "metadata": {},
   "source": [
    "In this block, you read the folder names for training and validation. You also set the `batch_size` here. Note that you set the batch size in such a way that you are able to use the GPU in full capacity. You keep increasing the batch size until the machine throws an error."
   ]
  },
  {
   "cell_type": "code",
   "execution_count": 94,
   "metadata": {},
   "outputs": [],
   "source": [
    "train_doc = np.random.permutation(open(image_path+'/train.csv').readlines())\n",
    "val_doc = np.random.permutation(open(image_path+'/val.csv').readlines())\n",
    "batch_size = 30 #experiment with the batch size"
   ]
  },
  {
   "cell_type": "code",
   "execution_count": 95,
   "metadata": {},
   "outputs": [],
   "source": [
    "import matplotlib.pyplot as plt\n",
    "# function to plot n images using subplots\n",
    "def plot_image(images, captions=None, cmap=None ):\n",
    "    f, axes = plt.subplots(1, len(images), sharey=True)\n",
    "    f.set_figwidth(15)\n",
    "    for ax,image in zip(axes, images):\n",
    "        ax.imshow(image, cmap)"
   ]
  },
  {
   "cell_type": "markdown",
   "metadata": {},
   "source": [
    "## Generator\n",
    "This is one of the most important part of the code. The overall structure of the generator has been given. In the generator, you are going to preprocess the images as you have images of 2 different dimensions as well as create a batch of video frames. You have to experiment with `img_idx`, `y`,`z` and normalization such that you get high accuracy."
   ]
  },
  {
   "cell_type": "code",
   "execution_count": 97,
   "metadata": {},
   "outputs": [],
   "source": [
    "import math\n",
    "\n",
    "def generator(source_path, folder_list, input_batch_size):\n",
    "    print( 'Source path = ', source_path, '; batch size =', input_batch_size)\n",
    "    img_idx = list(range(0,30)) #create a list of image numbers you want to use for a particular video\n",
    "    x = len(img_idx)\n",
    "    y = 120 #most of the images have size 360 x 360\n",
    "    z = 120\n",
    "    while True:\n",
    "        batch_size = input_batch_size\n",
    "        already_processed = 0\n",
    "        t = np.random.permutation(folder_list)\n",
    "        num_batches = math.ceil(len(folder_list) / input_batch_size) # calculate the number of batches\n",
    "        for batch in range(num_batches): # we iterate over the number of batches\n",
    "            \n",
    "            if(len(folder_list) - already_processed >= input_batch_size):\n",
    "                batch_size = input_batch_size\n",
    "            else:\n",
    "                batch_size = len(folder_list) - already_processed\n",
    "            \n",
    "            already_processed += batch_size\n",
    "            batch_data = np.zeros((batch_size,x,y,z,3)) # x is the number of images you use for each video, (y,z) is the final size of the input images and 3 is the number of channels RGB\n",
    "            batch_labels = np.zeros((batch_size,5)) # batch_labels is the one hot representation of the output\n",
    "            for folder in range(batch_size): # iterate over the batch_size\n",
    "                imgs = os.listdir(source_path+'/'+ t[folder + (batch*batch_size)].split(';')[0]) # read all the images in the folder\n",
    "                for idx,item in enumerate(img_idx): #  Iterate iver the frames/images of a folder to read them in\n",
    "                    image = imread(source_path+'/'+ t[folder + (batch*batch_size)].strip().split(';')[0]+'/'+imgs[item]).astype(np.float32)\n",
    "                    \n",
    "                    #crop the images and resize them. Note that the images are of 2 different shape \n",
    "                    #and the conv3D will throw error if the inputs in a batch have different shapes\n",
    "                    if(image.shape[0] != image.shape[1]):\n",
    "                        cropY = max((image.shape[0] - y), 0)//2\n",
    "                        cropZ = max((image.shape[1] - z), 0)//2\n",
    "                        image = image[0+cropY:image.shape[0]-cropY, 0+cropZ:image.shape[1]-cropZ, 0:3]\n",
    "                        \n",
    "                    image = imresize(image, [y, z])\n",
    "                    \n",
    "                    batch_data[folder,idx,:,:,0] = (image[:,:,0] - np.percentile(image[:,:,0],5)) / (np.percentile(image[:,:,0],95)- np.percentile(image[:,:,0],5))\n",
    "                    batch_data[folder,idx,:,:,1] = (image[:,:,1] - np.percentile(image[:,:,1],5)) / (np.percentile(image[:,:,1],95)- np.percentile(image[:,:,1],5))\n",
    "                    batch_data[folder,idx,:,:,2] = (image[:,:,2] - np.percentile(image[:,:,2],5)) / (np.percentile(image[:,:,2],95)- np.percentile(image[:,:,2],5))\n",
    "                    \n",
    "                batch_labels[folder, int(t[folder + (batch*batch_size)].strip().split(';')[2])] = 1\n",
    "            yield batch_data, batch_labels #you yield the batch_data and the batch_labels, remember what does yield do\n",
    "\n",
    "        \n",
    "        # write the code for the remaining data points which are left after full batches\n",
    "        ###\n",
    "        ## NOTE: THIS IS NOT REQUIRED, I have fixed the above code to handle the last batch\n",
    "        ###\n"
   ]
  },
  {
   "cell_type": "code",
   "execution_count": 98,
   "metadata": {},
   "outputs": [],
   "source": [
    "#This is to check Data generator\n",
    "# train_path = image_path + '/train'\n",
    "# train_generator = generator(train_path, train_doc, batch_size)\n",
    "\n",
    "# count = 1\n",
    "# for batch_data, batch_labels in train_generator:\n",
    "#     print(\"Batch {0}: {1}\".format(count, len(batch_data)))\n",
    "#     if(len(batch_data) < batch_size):\n",
    "#         break;\n",
    "        \n",
    "#     count += 1"
   ]
  },
  {
   "cell_type": "markdown",
   "metadata": {},
   "source": [
    "Note here that a video is represented above in the generator as (number of images, height, width, number of channels). Take this into consideration while creating the model architecture."
   ]
  },
  {
   "cell_type": "code",
   "execution_count": 99,
   "metadata": {},
   "outputs": [
    {
     "name": "stdout",
     "output_type": "stream",
     "text": [
      "# training sequences = 663\n",
      "# validation sequences = 100\n",
      "# epochs = 30\n"
     ]
    }
   ],
   "source": [
    "curr_dt_time = datetime.datetime.now()\n",
    "train_path = image_path+'/train'\n",
    "val_path = image_path+'/val'\n",
    "num_train_sequences = len(train_doc)\n",
    "print('# training sequences =', num_train_sequences)\n",
    "num_val_sequences = len(val_doc)\n",
    "print('# validation sequences =', num_val_sequences)\n",
    "num_epochs = 30 # choose the number of epochs\n",
    "print ('# epochs =', num_epochs)"
   ]
  },
  {
   "cell_type": "markdown",
   "metadata": {},
   "source": [
    "## Model\n",
    "Here you make the model using different functionalities that Keras provides. Remember to use `Conv3D` and `MaxPooling3D` and not `Conv2D` and `Maxpooling2D` for a 3D convolution model. You would want to use `TimeDistributed` while building a Conv2D + RNN model. Also remember that the last layer is the softmax. Design the network in such a way that the model is able to give good accuracy on the least number of parameters so that it can fit in the memory of the webcam."
   ]
  },
  {
   "cell_type": "code",
   "execution_count": 100,
   "metadata": {},
   "outputs": [],
   "source": [
    "from keras.models import Sequential, Model\n",
    "from keras.layers import Dense, GRU, Flatten, TimeDistributed, Flatten, BatchNormalization, Activation, Dropout\n",
    "from keras.layers.convolutional import Conv3D, MaxPooling3D\n",
    "from keras.callbacks import ModelCheckpoint, ReduceLROnPlateau\n",
    "from keras import optimizers\n",
    "\n",
    "model = Sequential()\n",
    "\n",
    "model.add(Conv3D(32, (3,3,3), activation = 'relu', input_shape=(30,120,120,3)))\n",
    "model.add(BatchNormalization())\n",
    "model.add(MaxPooling3D((2,2,2)))\n",
    "\n",
    "model.add(Conv3D(64, (2,2,2), activation = 'relu'))\n",
    "model.add(BatchNormalization())\n",
    "model.add(MaxPooling3D((2,2,2)))\n",
    "\n",
    "model.add(Conv3D(128, (2,2,2), activation = 'relu'))\n",
    "model.add(BatchNormalization())\n",
    "model.add(MaxPooling3D((2,2,2)))\n",
    "\n",
    "model.add(Dense(128, activation='relu'))\n",
    "model.add(BatchNormalization())\n",
    "\n",
    "model.add(Flatten())\n",
    "model.add(Dropout(0.3))\n",
    "model.add(Dense(64, activation='relu'))\n",
    "model.add(BatchNormalization())\n",
    "\n",
    "model.add(Dense(5, activation='softmax')) # There are 5 gestures"
   ]
  },
  {
   "cell_type": "markdown",
   "metadata": {},
   "source": [
    "Now that you have written the model, the next step is to `compile` the model. When you print the `summary` of the model, you'll see the total number of parameters you have to train."
   ]
  },
  {
   "cell_type": "code",
   "execution_count": 101,
   "metadata": {
    "scrolled": true
   },
   "outputs": [
    {
     "name": "stdout",
     "output_type": "stream",
     "text": [
      "_________________________________________________________________\n",
      "Layer (type)                 Output Shape              Param #   \n",
      "=================================================================\n",
      "conv3d_16 (Conv3D)           (None, 28, 118, 118, 32)  2624      \n",
      "_________________________________________________________________\n",
      "batch_normalization_24 (Batc (None, 28, 118, 118, 32)  128       \n",
      "_________________________________________________________________\n",
      "max_pooling3d_16 (MaxPooling (None, 14, 59, 59, 32)    0         \n",
      "_________________________________________________________________\n",
      "conv3d_17 (Conv3D)           (None, 13, 58, 58, 64)    16448     \n",
      "_________________________________________________________________\n",
      "batch_normalization_25 (Batc (None, 13, 58, 58, 64)    256       \n",
      "_________________________________________________________________\n",
      "max_pooling3d_17 (MaxPooling (None, 6, 29, 29, 64)     0         \n",
      "_________________________________________________________________\n",
      "conv3d_18 (Conv3D)           (None, 5, 28, 28, 128)    65664     \n",
      "_________________________________________________________________\n",
      "batch_normalization_26 (Batc (None, 5, 28, 28, 128)    512       \n",
      "_________________________________________________________________\n",
      "max_pooling3d_18 (MaxPooling (None, 2, 14, 14, 128)    0         \n",
      "_________________________________________________________________\n",
      "dense_16 (Dense)             (None, 2, 14, 14, 128)    16512     \n",
      "_________________________________________________________________\n",
      "batch_normalization_27 (Batc (None, 2, 14, 14, 128)    512       \n",
      "_________________________________________________________________\n",
      "flatten_6 (Flatten)          (None, 50176)             0         \n",
      "_________________________________________________________________\n",
      "dropout_7 (Dropout)          (None, 50176)             0         \n",
      "_________________________________________________________________\n",
      "dense_17 (Dense)             (None, 64)                3211328   \n",
      "_________________________________________________________________\n",
      "batch_normalization_28 (Batc (None, 64)                256       \n",
      "_________________________________________________________________\n",
      "dense_18 (Dense)             (None, 5)                 325       \n",
      "=================================================================\n",
      "Total params: 3,314,565\n",
      "Trainable params: 3,313,733\n",
      "Non-trainable params: 832\n",
      "_________________________________________________________________\n",
      "None\n"
     ]
    }
   ],
   "source": [
    "optimiser = optimizers.Adam() #write your optimizer\n",
    "model.compile(optimizer=optimiser, loss='categorical_crossentropy', metrics=['categorical_accuracy'])\n",
    "print (model.summary())"
   ]
  },
  {
   "cell_type": "markdown",
   "metadata": {},
   "source": [
    "Let us create the `train_generator` and the `val_generator` which will be used in `.fit_generator`."
   ]
  },
  {
   "cell_type": "code",
   "execution_count": 102,
   "metadata": {},
   "outputs": [],
   "source": [
    "train_generator = generator(train_path, train_doc, batch_size)\n",
    "val_generator = generator(val_path, val_doc, batch_size)"
   ]
  },
  {
   "cell_type": "code",
   "execution_count": 103,
   "metadata": {
    "scrolled": true
   },
   "outputs": [],
   "source": [
    "model_name = 'model_init' + '_' + str(curr_dt_time).replace(' ','').replace(':','_') + '/'\n",
    "    \n",
    "if not os.path.exists(model_name):\n",
    "    os.mkdir(model_name)\n",
    "        \n",
    "filepath = model_name + 'model-{epoch:05d}-{loss:.5f}-{categorical_accuracy:.5f}-{val_loss:.5f}-{val_categorical_accuracy:.5f}.h5'\n",
    "\n",
    "checkpoint = ModelCheckpoint(filepath, monitor='val_loss', verbose=1, save_best_only=False, save_weights_only=False, mode='auto', period=1)\n",
    "\n",
    "LR = ReduceLROnPlateau(monitor = \"val_loss\", factor = 0.2, patience = 3, verbose=1, mode = \"auto\", cooldown = 0, min_lr=0.0)\n",
    "callbacks_list = [checkpoint, LR]"
   ]
  },
  {
   "cell_type": "markdown",
   "metadata": {},
   "source": [
    "The `steps_per_epoch` and `validation_steps` are used by `fit_generator` to decide the number of next() calls it need to make."
   ]
  },
  {
   "cell_type": "code",
   "execution_count": 104,
   "metadata": {},
   "outputs": [],
   "source": [
    "if (num_train_sequences%batch_size) == 0:\n",
    "    steps_per_epoch = int(num_train_sequences/batch_size)\n",
    "else:\n",
    "    steps_per_epoch = (num_train_sequences//batch_size) + 1\n",
    "\n",
    "if (num_val_sequences%batch_size) == 0:\n",
    "    validation_steps = int(num_val_sequences/batch_size)\n",
    "else:\n",
    "    validation_steps = (num_val_sequences//batch_size) + 1"
   ]
  },
  {
   "cell_type": "markdown",
   "metadata": {},
   "source": [
    "Let us now fit the model. This will start training the model and with the help of the checkpoints, you'll be able to save the model at the end of each epoch."
   ]
  },
  {
   "cell_type": "code",
   "execution_count": 105,
   "metadata": {
    "scrolled": true
   },
   "outputs": [
    {
     "name": "stdout",
     "output_type": "stream",
     "text": [
      "Source path =  Project_data/val Source path =  ; batch size = 30\n",
      "Project_data/train ; batch size = 30\n",
      "Epoch 1/30\n"
     ]
    },
    {
     "name": "stderr",
     "output_type": "stream",
     "text": [
      "/mnt/disks/user/anaconda3/lib/python3.6/site-packages/ipykernel_launcher.py:27: DeprecationWarning: `imread` is deprecated!\n",
      "`imread` is deprecated in SciPy 1.0.0, and will be removed in 1.2.0.\n",
      "Use ``imageio.imread`` instead.\n",
      "/mnt/disks/user/anaconda3/lib/python3.6/site-packages/ipykernel_launcher.py:36: DeprecationWarning: `imresize` is deprecated!\n",
      "`imresize` is deprecated in SciPy 1.0.0, and will be removed in 1.2.0.\n",
      "Use ``skimage.transform.resize`` instead.\n"
     ]
    },
    {
     "name": "stdout",
     "output_type": "stream",
     "text": [
      "23/23 [==============================] - 131s 6s/step - loss: 1.3565 - categorical_accuracy: 0.5224 - val_loss: 3.8259 - val_categorical_accuracy: 0.4200\n",
      "\n",
      "Epoch 00001: saving model to model_init_2021-02-0202_29_20.450163/model-00001-1.40225-0.50377-3.82588-0.42000.h5\n",
      "Epoch 2/30\n",
      "23/23 [==============================] - 109s 5s/step - loss: 0.4384 - categorical_accuracy: 0.8612 - val_loss: 0.9627 - val_categorical_accuracy: 0.7400\n",
      "\n",
      "Epoch 00002: saving model to model_init_2021-02-0202_29_20.450163/model-00002-0.42904-0.86878-0.96265-0.74000.h5\n",
      "Epoch 3/30\n",
      "23/23 [==============================] - 110s 5s/step - loss: 0.2494 - categorical_accuracy: 0.9454 - val_loss: 1.1521 - val_categorical_accuracy: 0.6100\n",
      "\n",
      "Epoch 00003: saving model to model_init_2021-02-0202_29_20.450163/model-00003-0.22424-0.95626-1.15213-0.61000.h5\n",
      "Epoch 4/30\n",
      "23/23 [==============================] - 109s 5s/step - loss: 0.1103 - categorical_accuracy: 0.9942 - val_loss: 0.9818 - val_categorical_accuracy: 0.7000\n",
      "\n",
      "Epoch 00004: saving model to model_init_2021-02-0202_29_20.450163/model-00004-0.10948-0.99397-0.98179-0.70000.h5\n",
      "Epoch 5/30\n",
      "23/23 [==============================] - 109s 5s/step - loss: 0.0807 - categorical_accuracy: 0.9846 - val_loss: 1.2049 - val_categorical_accuracy: 0.6000\n",
      "\n",
      "Epoch 00005: saving model to model_init_2021-02-0202_29_20.450163/model-00005-0.06089-0.99698-1.20489-0.60000.h5\n",
      "\n",
      "Epoch 00005: ReduceLROnPlateau reducing learning rate to 0.00020000000949949026.\n",
      "Epoch 6/30\n",
      "23/23 [==============================] - 108s 5s/step - loss: 0.0914 - categorical_accuracy: 0.9860 - val_loss: 0.8841 - val_categorical_accuracy: 0.7000\n",
      "\n",
      "Epoch 00006: saving model to model_init_2021-02-0202_29_20.450163/model-00006-0.06330-0.99849-0.88406-0.70000.h5\n",
      "Epoch 7/30\n",
      "23/23 [==============================] - 109s 5s/step - loss: 0.0759 - categorical_accuracy: 0.9860 - val_loss: 0.8733 - val_categorical_accuracy: 0.7300\n",
      "\n",
      "Epoch 00007: saving model to model_init_2021-02-0202_29_20.450163/model-00007-0.05556-0.99849-0.87332-0.73000.h5\n",
      "Epoch 8/30\n",
      "23/23 [==============================] - 110s 5s/step - loss: 0.0529 - categorical_accuracy: 0.9985 - val_loss: 0.7608 - val_categorical_accuracy: 0.7700\n",
      "\n",
      "Epoch 00008: saving model to model_init_2021-02-0202_29_20.450163/model-00008-0.05025-0.99849-0.76084-0.77000.h5\n",
      "Epoch 9/30\n",
      "23/23 [==============================] - 109s 5s/step - loss: 0.0355 - categorical_accuracy: 0.9985 - val_loss: 0.6463 - val_categorical_accuracy: 0.8000\n",
      "\n",
      "Epoch 00009: saving model to model_init_2021-02-0202_29_20.450163/model-00009-0.03564-0.99849-0.64632-0.80000.h5\n",
      "Epoch 10/30\n",
      "23/23 [==============================] - 109s 5s/step - loss: 0.0445 - categorical_accuracy: 1.0000 - val_loss: 0.4829 - val_categorical_accuracy: 0.8300\n",
      "\n",
      "Epoch 00010: saving model to model_init_2021-02-0202_29_20.450163/model-00010-0.03579-1.00000-0.48293-0.83000.h5\n",
      "Epoch 11/30\n",
      "23/23 [==============================] - 109s 5s/step - loss: 0.0333 - categorical_accuracy: 1.0000 - val_loss: 1.1639 - val_categorical_accuracy: 0.6100\n",
      "\n",
      "Epoch 00011: saving model to model_init_2021-02-0202_29_20.450163/model-00011-0.03334-1.00000-1.16386-0.61000.h5\n",
      "Epoch 12/30\n",
      "23/23 [==============================] - 108s 5s/step - loss: 0.0379 - categorical_accuracy: 1.0000 - val_loss: 0.9503 - val_categorical_accuracy: 0.7300\n",
      "\n",
      "Epoch 00012: saving model to model_init_2021-02-0202_29_20.450163/model-00012-0.03092-1.00000-0.95026-0.73000.h5\n",
      "Epoch 13/30\n",
      "23/23 [==============================] - 110s 5s/step - loss: 0.0484 - categorical_accuracy: 0.9860 - val_loss: 0.7225 - val_categorical_accuracy: 0.7600\n",
      "\n",
      "Epoch 00013: saving model to model_init_2021-02-0202_29_20.450163/model-00013-0.02825-0.99849-0.72254-0.76000.h5\n",
      "\n",
      "Epoch 00013: ReduceLROnPlateau reducing learning rate to 4.0000001899898055e-05.\n",
      "Epoch 14/30\n",
      "23/23 [==============================] - 108s 5s/step - loss: 0.0363 - categorical_accuracy: 1.0000 - val_loss: 0.6320 - val_categorical_accuracy: 0.8000\n",
      "\n",
      "Epoch 00015: saving model to model_init_2021-02-0202_29_20.450163/model-00015-0.02477-1.00000-0.63202-0.80000.h5\n",
      "Epoch 16/30\n",
      "23/23 [==============================] - 109s 5s/step - loss: 0.0327 - categorical_accuracy: 1.0000 - val_loss: 0.6051 - val_categorical_accuracy: 0.8100\n",
      "\n",
      "Epoch 00016: saving model to model_init_2021-02-0202_29_20.450163/model-00016-0.02446-1.00000-0.60510-0.81000.h5\n",
      "\n",
      "Epoch 00016: ReduceLROnPlateau reducing learning rate to 8.000000525498762e-06.\n",
      "Epoch 17/30\n",
      "23/23 [==============================] - 109s 5s/step - loss: 0.0237 - categorical_accuracy: 1.0000 - val_loss: 0.5525 - val_categorical_accuracy: 0.8100\n",
      "\n",
      "Epoch 00017: saving model to model_init_2021-02-0202_29_20.450163/model-00017-0.02336-1.00000-0.55249-0.81000.h5\n",
      "Epoch 18/30\n",
      "23/23 [==============================] - 108s 5s/step - loss: 0.0380 - categorical_accuracy: 0.9860 - val_loss: 0.5874 - val_categorical_accuracy: 0.7900\n",
      "\n",
      "Epoch 00018: saving model to model_init_2021-02-0202_29_20.450163/model-00018-0.02286-0.99849-0.58736-0.79000.h5\n",
      "Epoch 19/30\n",
      "23/23 [==============================] - 109s 5s/step - loss: 0.0396 - categorical_accuracy: 0.9860 - val_loss: 0.5515 - val_categorical_accuracy: 0.8300\n",
      "\n",
      "Epoch 00019: saving model to model_init_2021-02-0202_29_20.450163/model-00019-0.02404-0.99849-0.55154-0.83000.h5\n",
      "\n",
      "Epoch 00019: ReduceLROnPlateau reducing learning rate to 1.6000001778593287e-06.\n",
      "Epoch 20/30\n",
      "23/23 [==============================] - 110s 5s/step - loss: 0.0252 - categorical_accuracy: 1.0000 - val_loss: 0.5598 - val_categorical_accuracy: 0.8300\n",
      "\n",
      "Epoch 00020: saving model to model_init_2021-02-0202_29_20.450163/model-00020-0.02248-1.00000-0.55981-0.83000.h5\n",
      "Epoch 21/30\n",
      "23/23 [==============================] - 109s 5s/step - loss: 0.0244 - categorical_accuracy: 1.0000 - val_loss: 0.5021 - val_categorical_accuracy: 0.8100\n",
      "\n",
      "Epoch 00021: saving model to model_init_2021-02-0202_29_20.450163/model-00021-0.02193-1.00000-0.50212-0.81000.h5\n",
      "Epoch 22/30\n",
      "23/23 [==============================] - 109s 5s/step - loss: 0.0285 - categorical_accuracy: 1.0000 - val_loss: 0.5254 - val_categorical_accuracy: 0.8200\n",
      "\n",
      "Epoch 00022: saving model to model_init_2021-02-0202_29_20.450163/model-00022-0.02315-1.00000-0.52539-0.82000.h5\n",
      "\n",
      "Epoch 00022: ReduceLROnPlateau reducing learning rate to 3.200000264769187e-07.\n",
      "Epoch 23/30\n",
      "23/23 [==============================] - 107s 5s/step - loss: 0.0317 - categorical_accuracy: 1.0000 - val_loss: 0.5332 - val_categorical_accuracy: 0.8500\n",
      "\n",
      "Epoch 00023: saving model to model_init_2021-02-0202_29_20.450163/model-00023-0.02435-1.00000-0.53319-0.85000.h5\n",
      "Epoch 24/30\n",
      "23/23 [==============================] - 108s 5s/step - loss: 0.0372 - categorical_accuracy: 1.0000 - val_loss: 0.5041 - val_categorical_accuracy: 0.8300\n",
      "\n",
      "Epoch 00024: saving model to model_init_2021-02-0202_29_20.450163/model-00024-0.02310-1.00000-0.50412-0.83000.h5\n",
      "Epoch 25/30\n",
      "23/23 [==============================] - 108s 5s/step - loss: 0.1465 - categorical_accuracy: 0.9581 - val_loss: 0.5251 - val_categorical_accuracy: 0.8300\n",
      "\n",
      "Epoch 00025: saving model to model_init_2021-02-0202_29_20.450163/model-00025-0.03722-0.99548-0.52513-0.83000.h5\n",
      "\n",
      "Epoch 00025: ReduceLROnPlateau reducing learning rate to 6.400000529538374e-08.\n",
      "Epoch 26/30\n",
      "23/23 [==============================] - 108s 5s/step - loss: 0.0447 - categorical_accuracy: 0.9860 - val_loss: 0.5528 - val_categorical_accuracy: 0.8100\n",
      "\n",
      "Epoch 00026: saving model to model_init_2021-02-0202_29_20.450163/model-00026-0.02218-0.99849-0.55285-0.81000.h5\n",
      "Epoch 27/30\n",
      "23/23 [==============================] - 107s 5s/step - loss: 0.0210 - categorical_accuracy: 1.0000 - val_loss: 0.5827 - val_categorical_accuracy: 0.8000\n",
      "\n",
      "Epoch 00027: saving model to model_init_2021-02-0202_29_20.450163/model-00027-0.02120-1.00000-0.58271-0.80000.h5\n",
      "Epoch 28/30\n",
      "23/23 [==============================] - 108s 5s/step - loss: 0.0305 - categorical_accuracy: 1.0000 - val_loss: 0.5216 - val_categorical_accuracy: 0.8100\n",
      "\n",
      "Epoch 00028: saving model to model_init_2021-02-0202_29_20.450163/model-00028-0.02256-1.00000-0.52164-0.81000.h5\n",
      "\n",
      "Epoch 00028: ReduceLROnPlateau reducing learning rate to 1.2800001059076749e-08.\n",
      "Epoch 29/30\n",
      "23/23 [==============================] - 107s 5s/step - loss: 0.0225 - categorical_accuracy: 1.0000 - val_loss: 0.5008 - val_categorical_accuracy: 0.8300\n",
      "\n",
      "Epoch 00029: saving model to model_init_2021-02-0202_29_20.450163/model-00029-0.02163-1.00000-0.50085-0.83000.h5\n",
      "Epoch 30/30\n",
      "23/23 [==============================] - 108s 5s/step - loss: 0.0218 - categorical_accuracy: 1.0000 - val_loss: 0.5129 - val_categorical_accuracy: 0.8300\n",
      "\n",
      "Epoch 00030: saving model to model_init_2021-02-0202_29_20.450163/model-00030-0.02140-1.00000-0.51288-0.83000.h5\n"
     ]
    }
   ],
   "source": [
    "modelHist = model.fit_generator(train_generator, steps_per_epoch=steps_per_epoch, epochs=num_epochs, verbose=1, \n",
    "                    callbacks=callbacks_list, validation_data=val_generator, \n",
    "                    validation_steps=validation_steps, class_weight=None, workers=1, initial_epoch=0)"
   ]
  },
  {
   "cell_type": "markdown",
   "metadata": {},
   "source": [
    "### At the 23th Epoch \n",
    "### 85% validation accuracy, 100% training accuracy\n",
    "##### Epoch 23/30\n",
    "##### 23/23 [==============================] - 107s 5s/step - loss: 0.0317 - categorical_accuracy: 1.0000 - val_loss: 0.5332 - val_categorical_accuracy: 0.8500\n",
    "\n",
    "##### Epoch 00023: saving model to model_init_2021-02-0202_29_20.450163/model-00023-0.02435-1.00000-0.53319-0.85000.h5"
   ]
  },
  {
   "cell_type": "code",
   "execution_count": 121,
   "metadata": {},
   "outputs": [],
   "source": [
    "import matplotlib\n",
    "from matplotlib import pyplot as plt\n",
    "import matplotlib.image as mpimg\n",
    "\n",
    "def plotHistory(history):\n",
    "    acc = history.history['categorical_accuracy']\n",
    "    val_acc = history.history['val_categorical_accuracy']\n",
    "    loss = history.history['loss']\n",
    "    val_loss = history.history['val_loss']\n",
    "    epochs = range(1, len(acc) + 1)\n",
    "    \n",
    "    plt.figure(figsize  = (15,30))\n",
    "    plt.subplot(5, 2, 1)\n",
    "    plt.plot(epochs, acc, 'bo', label='Training acc')\n",
    "    plt.plot(epochs, val_acc, 'b', label='Validation acc')\n",
    "    plt.title('Training and validation accuracy')\n",
    "    plt.legend()\n",
    "    \n",
    "    plt.subplot(5, 2, 2)\n",
    "    plt.plot(epochs, loss, 'bo', label='Training loss')\n",
    "    plt.plot(epochs, val_loss, 'b', label='Validation loss')\n",
    "    plt.title('Training and validation loss')\n",
    "    plt.legend()\n",
    "    plt.show()"
   ]
  },
  {
   "cell_type": "code",
   "execution_count": 122,
   "metadata": {},
   "outputs": [
    {
     "data": {
      "image/png": "[encoded data removed]",
      "text/plain": [
       "<Figure size 1080x2160 with 2 Axes>"
      ]
     },
     "metadata": {},
     "output_type": "display_data"
    }
   ],
   "source": [
    "plotHistory(modelHist)"
   ]
  },
  {
   "cell_type": "code",
   "execution_count": null,
   "metadata": {},
   "outputs": [],
   "source": [
    "\n",
    "\n"
   ]
  }
 ],
 "metadata": {
  "kernelspec": {
   "display_name": "Python 3",
   "language": "python",
   "name": "python3"
  },
  "language_info": {
   "codemirror_mode": {
    "name": "ipython",
    "version": 3
   },
   "file_extension": ".py",
   "mimetype": "text/x-python",
   "name": "python",
   "nbconvert_exporter": "python",
   "pygments_lexer": "ipython3",
   "version": "3.6.8"
  }
 },
 "nbformat": 4,
 "nbformat_minor": 2
}
